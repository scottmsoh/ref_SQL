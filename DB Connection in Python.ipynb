{
 "cells": [
  {
   "cell_type": "markdown",
   "id": "287813b9",
   "metadata": {},
   "source": [
    "## SQL Connection"
   ]
  },
  {
   "cell_type": "markdown",
   "id": "ac1987e9",
   "metadata": {},
   "source": [
    "1. MySQL : Use the mysql-connector-python package or similar to connect to a MySQL database."
   ]
  },
  {
   "cell_type": "code",
   "execution_count": null,
   "id": "17627790",
   "metadata": {},
   "outputs": [],
   "source": [
    "pip install mysql-connector-python  # or pip install PyMySQL"
   ]
  },
  {
   "cell_type": "code",
   "execution_count": 1,
   "id": "4dbf12dc",
   "metadata": {
    "collapsed": true
   },
   "outputs": [
    {
     "ename": "ModuleNotFoundError",
     "evalue": "No module named 'mysql'",
     "output_type": "error",
     "traceback": [
      "\u001b[0;31m---------------------------------------------------------------------------\u001b[0m",
      "\u001b[0;31mModuleNotFoundError\u001b[0m                       Traceback (most recent call last)",
      "Cell \u001b[0;32mIn[1], line 1\u001b[0m\n\u001b[0;32m----> 1\u001b[0m \u001b[38;5;28;01mimport\u001b[39;00m \u001b[38;5;21;01mmysql\u001b[39;00m\u001b[38;5;21;01m.\u001b[39;00m\u001b[38;5;21;01mconnector\u001b[39;00m\n\u001b[1;32m      3\u001b[0m conn \u001b[38;5;241m=\u001b[39m mysql\u001b[38;5;241m.\u001b[39mconnector\u001b[38;5;241m.\u001b[39mconnect(\n\u001b[1;32m      4\u001b[0m     host\u001b[38;5;241m=\u001b[39m\u001b[38;5;124m\"\u001b[39m\u001b[38;5;124mhostname\u001b[39m\u001b[38;5;124m\"\u001b[39m,\n\u001b[1;32m      5\u001b[0m     user\u001b[38;5;241m=\u001b[39m\u001b[38;5;124m\"\u001b[39m\u001b[38;5;124musername\u001b[39m\u001b[38;5;124m\"\u001b[39m,\n\u001b[1;32m      6\u001b[0m     password\u001b[38;5;241m=\u001b[39m\u001b[38;5;124m\"\u001b[39m\u001b[38;5;124mpassword\u001b[39m\u001b[38;5;124m\"\u001b[39m,\n\u001b[1;32m      7\u001b[0m     database\u001b[38;5;241m=\u001b[39m\u001b[38;5;124m\"\u001b[39m\u001b[38;5;124mdatabasename\u001b[39m\u001b[38;5;124m\"\u001b[39m\n\u001b[1;32m      8\u001b[0m )\n\u001b[1;32m      9\u001b[0m cursor \u001b[38;5;241m=\u001b[39m conn\u001b[38;5;241m.\u001b[39mcursor()\n",
      "\u001b[0;31mModuleNotFoundError\u001b[0m: No module named 'mysql'"
     ]
    }
   ],
   "source": [
    "import mysql.connector\n",
    "\n",
    "conn = mysql.connector.connect(\n",
    "    host=\"hostname\",\n",
    "    user=\"username\",\n",
    "    password=\"password\",\n",
    "    database=\"databasename\"\n",
    ")\n",
    "cursor = conn.cursor()\n",
    "cursor.execute(\"SELECT * FROM table_name\")\n",
    "results = cursor.fetchall()"
   ]
  },
  {
   "cell_type": "markdown",
   "id": "9b27eaca",
   "metadata": {},
   "source": [
    "2. PostgreSQL: Use the psycopg2 package to connect to a PostgreSQL database."
   ]
  },
  {
   "cell_type": "code",
   "execution_count": null,
   "id": "11050c01",
   "metadata": {},
   "outputs": [],
   "source": [
    "pip install psycopg2"
   ]
  },
  {
   "cell_type": "code",
   "execution_count": null,
   "id": "2cf13ab4",
   "metadata": {},
   "outputs": [],
   "source": [
    "import psycopg2\n",
    "\n",
    "conn = psycopg2.connect(\n",
    "    host=\"hostname\",\n",
    "    database=\"databasename\",\n",
    "    user=\"username\",\n",
    "    password=\"password\"\n",
    ")\n",
    "cursor = conn.cursor()\n",
    "cursor.execute(\"SELECT * FROM table_name\")\n",
    "results = cursor.fetchall()"
   ]
  },
  {
   "cell_type": "code",
   "execution_count": 3,
   "id": "a2976f55",
   "metadata": {},
   "outputs": [],
   "source": [
    "## Ensure that you have the necessary drivers and client software installed \n",
    "# for your database system, especially for databases like Oracle or Microsoft SQL Server."
   ]
  },
  {
   "cell_type": "markdown",
   "id": "995f3173",
   "metadata": {},
   "source": [
    "3. OracleDB: Use the cx_Oracle package to connect to an Oracle database."
   ]
  },
  {
   "cell_type": "code",
   "execution_count": null,
   "id": "3ce7a6ba",
   "metadata": {},
   "outputs": [],
   "source": [
    "pip install cx_Oracle"
   ]
  },
  {
   "cell_type": "code",
   "execution_count": null,
   "id": "80d27b66",
   "metadata": {},
   "outputs": [],
   "source": [
    "import cx_Oracle\n",
    "\n",
    "conn = cx_Oracle.connect('username/password@hostname:port/ServiceName')\n",
    "cursor = conn.cursor()\n",
    "cursor.execute(\"SELECT * FROM table_name\")\n",
    "results = cursor.fetchall()"
   ]
  },
  {
   "cell_type": "markdown",
   "id": "01029e02",
   "metadata": {},
   "source": [
    "4. Microsoft SQL Server: Use the pyodbc or pymssql package to connect to a Microsoft SQL Server database."
   ]
  },
  {
   "cell_type": "code",
   "execution_count": null,
   "id": "639b8a09",
   "metadata": {},
   "outputs": [],
   "source": [
    "pip install pyodbc  # or pip install pymssql"
   ]
  },
  {
   "cell_type": "code",
   "execution_count": null,
   "id": "3f73da09",
   "metadata": {},
   "outputs": [],
   "source": [
    "import pyodbc\n",
    "\n",
    "conn = pyodbc.connect('DRIVER={ODBC Driver};SERVER=hostname;DATABASE=databasename;UID=username;PWD=password')\n",
    "cursor = conn.cursor()\n",
    "cursor.execute(\"SELECT * FROM table_name\")\n",
    "results = cursor.fetchall()"
   ]
  },
  {
   "cell_type": "markdown",
   "id": "e3f8c818",
   "metadata": {},
   "source": [
    "5. Sqlite: "
   ]
  },
  {
   "cell_type": "code",
   "execution_count": 4,
   "id": "d10c1d92",
   "metadata": {
    "collapsed": true
   },
   "outputs": [
    {
     "ename": "NameError",
     "evalue": "name 'pd' is not defined",
     "output_type": "error",
     "traceback": [
      "\u001b[0;31m---------------------------------------------------------------------------\u001b[0m",
      "\u001b[0;31mNameError\u001b[0m                                 Traceback (most recent call last)",
      "Cell \u001b[0;32mIn[4], line 4\u001b[0m\n\u001b[1;32m      1\u001b[0m \u001b[38;5;28;01mimport\u001b[39;00m \u001b[38;5;21;01msqlite3\u001b[39;00m\n\u001b[1;32m      2\u001b[0m conn \u001b[38;5;241m=\u001b[39m sqlite3\u001b[38;5;241m.\u001b[39mconnect(\u001b[38;5;124m'\u001b[39m\u001b[38;5;124m/Users/minseokoh/Desktop/04.Winter_break/02.SQL/database.sqlite\u001b[39m\u001b[38;5;124m'\u001b[39m)\n\u001b[0;32m----> 4\u001b[0m tables \u001b[38;5;241m=\u001b[39m pd\u001b[38;5;241m.\u001b[39mread_sql(\u001b[38;5;124m\"\"\"\u001b[39m\u001b[38;5;124mSELECT name FROM sqlite_master WHERE type=\u001b[39m\u001b[38;5;124m'\u001b[39m\u001b[38;5;124mtable\u001b[39m\u001b[38;5;124m'\u001b[39m\u001b[38;5;124m;\u001b[39m\u001b[38;5;124m\"\"\"\u001b[39m, conn)\n\u001b[1;32m      5\u001b[0m \u001b[38;5;28mprint\u001b[39m(tables)\n",
      "\u001b[0;31mNameError\u001b[0m: name 'pd' is not defined"
     ]
    }
   ],
   "source": [
    "import sqlite3\n",
    "conn = sqlite3.connect('/Users/minseokoh/Desktop/04.Winter_break/02.SQL/database.sqlite')\n",
    "\n",
    "tables = pd.read_sql(\"\"\"SELECT name FROM sqlite_master WHERE type='table';\"\"\", conn)\n",
    "print(tables)"
   ]
  },
  {
   "cell_type": "code",
   "execution_count": null,
   "id": "3db158c5",
   "metadata": {},
   "outputs": [],
   "source": []
  }
 ],
 "metadata": {
  "kernelspec": {
   "display_name": "Python 3 (ipykernel)",
   "language": "python",
   "name": "python3"
  },
  "language_info": {
   "codemirror_mode": {
    "name": "ipython",
    "version": 3
   },
   "file_extension": ".py",
   "mimetype": "text/x-python",
   "name": "python",
   "nbconvert_exporter": "python",
   "pygments_lexer": "ipython3",
   "version": "3.11.4"
  }
 },
 "nbformat": 4,
 "nbformat_minor": 5
}
