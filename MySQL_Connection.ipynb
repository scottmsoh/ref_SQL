{
 "cells": [
  {
   "cell_type": "markdown",
   "id": "7b1913e2",
   "metadata": {},
   "source": [
    "### MySQL connect, data analysis"
   ]
  },
  {
   "cell_type": "code",
   "execution_count": null,
   "id": "05f637b2",
   "metadata": {},
   "outputs": [],
   "source": [
    "pip install mysql-connector-python"
   ]
  },
  {
   "cell_type": "code",
   "execution_count": 6,
   "id": "b68c4027",
   "metadata": {},
   "outputs": [],
   "source": [
    "import pandas as pd\n",
    "import numpy as np\n",
    "import mysql.connector"
   ]
  },
  {
   "cell_type": "code",
   "execution_count": 18,
   "id": "8a4c47d9",
   "metadata": {},
   "outputs": [],
   "source": [
    "conn = mysql.connector.connect(\n",
    "    host = 'localhost',\n",
    "    user = 'root',\n",
    "    password = 'dhalstjr11.',\n",
    "    database = 'MYSQL'\n",
    ")"
   ]
  },
  {
   "cell_type": "code",
   "execution_count": 19,
   "id": "f24373fe",
   "metadata": {},
   "outputs": [],
   "source": [
    "query = \"SELECT * FROM MERGGED_TABLE\""
   ]
  },
  {
   "cell_type": "code",
   "execution_count": 20,
   "id": "5ebdd064",
   "metadata": {},
   "outputs": [
    {
     "name": "stderr",
     "output_type": "stream",
     "text": [
      "/var/folders/x6/29gj9fhd1rs_98l6pyr3bngw0000gn/T/ipykernel_67455/1168034203.py:1: UserWarning: pandas only supports SQLAlchemy connectable (engine/connection) or database string URI or sqlite3 DBAPI2 connection. Other DBAPI2 objects are not tested. Please consider using SQLAlchemy.\n",
      "  df = pd.read_sql(query, conn)\n"
     ]
    }
   ],
   "source": [
    "df = pd.read_sql(query, conn)"
   ]
  },
  {
   "cell_type": "code",
   "execution_count": 21,
   "id": "8d41e65f",
   "metadata": {},
   "outputs": [
    {
     "data": {
      "text/html": [
       "<div>\n",
       "<style scoped>\n",
       "    .dataframe tbody tr th:only-of-type {\n",
       "        vertical-align: middle;\n",
       "    }\n",
       "\n",
       "    .dataframe tbody tr th {\n",
       "        vertical-align: top;\n",
       "    }\n",
       "\n",
       "    .dataframe thead th {\n",
       "        text-align: right;\n",
       "    }\n",
       "</style>\n",
       "<table border=\"1\" class=\"dataframe\">\n",
       "  <thead>\n",
       "    <tr style=\"text-align: right;\">\n",
       "      <th></th>\n",
       "      <th>VIDEO_NAME</th>\n",
       "      <th>VIEW_CNT</th>\n",
       "      <th>MAIN_ACT</th>\n",
       "      <th>SUB_ACT</th>\n",
       "      <th>MAIN_AGE</th>\n",
       "      <th>SUB_AGE</th>\n",
       "    </tr>\n",
       "  </thead>\n",
       "  <tbody>\n",
       "    <tr>\n",
       "      <th>0</th>\n",
       "      <td>바비</td>\n",
       "      <td>333</td>\n",
       "      <td>마고로비</td>\n",
       "      <td>디카프리오</td>\n",
       "      <td>35</td>\n",
       "      <td>50</td>\n",
       "    </tr>\n",
       "    <tr>\n",
       "      <th>1</th>\n",
       "      <td>아저씨</td>\n",
       "      <td>365</td>\n",
       "      <td>원빈</td>\n",
       "      <td>꼬맹</td>\n",
       "      <td>30</td>\n",
       "      <td>14</td>\n",
       "    </tr>\n",
       "    <tr>\n",
       "      <th>2</th>\n",
       "      <td>아저씨2</td>\n",
       "      <td>3633</td>\n",
       "      <td>원빈</td>\n",
       "      <td>꼬맹2</td>\n",
       "      <td>40</td>\n",
       "      <td>24</td>\n",
       "    </tr>\n",
       "  </tbody>\n",
       "</table>\n",
       "</div>"
      ],
      "text/plain": [
       "  VIDEO_NAME  VIEW_CNT MAIN_ACT SUB_ACT  MAIN_AGE  SUB_AGE\n",
       "0         바비       333     마고로비   디카프리오        35       50\n",
       "1        아저씨       365       원빈      꼬맹        30       14\n",
       "2       아저씨2      3633       원빈     꼬맹2        40       24"
      ]
     },
     "execution_count": 21,
     "metadata": {},
     "output_type": "execute_result"
    }
   ],
   "source": [
    "df"
   ]
  },
  {
   "cell_type": "code",
   "execution_count": null,
   "id": "25f57b22",
   "metadata": {},
   "outputs": [],
   "source": []
  }
 ],
 "metadata": {
  "kernelspec": {
   "display_name": "Python 3 (ipykernel)",
   "language": "python",
   "name": "python3"
  },
  "language_info": {
   "codemirror_mode": {
    "name": "ipython",
    "version": 3
   },
   "file_extension": ".py",
   "mimetype": "text/x-python",
   "name": "python",
   "nbconvert_exporter": "python",
   "pygments_lexer": "ipython3",
   "version": "3.11.4"
  }
 },
 "nbformat": 4,
 "nbformat_minor": 5
}
